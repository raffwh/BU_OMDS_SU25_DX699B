{
 "cells": [
  {
   "cell_type": "markdown",
   "id": "5190b54c-d49c-4d6f-80cc-22555336a9cd",
   "metadata": {},
   "source": [
    "# Week 2 - Preprocessing, part 2\n",
    "\n",
    "# 1. Lesson: None"
   ]
  },
  {
   "cell_type": "markdown",
   "id": "47c4e5ff-b05f-4ef2-96f1-49dcb5beb158",
   "metadata": {},
   "source": [
    "# 2. Weekly graph question"
   ]
  },
  {
   "cell_type": "markdown",
   "id": "aad37e29-6e84-41fa-886d-abc1312213ab",
   "metadata": {},
   "source": [
    "The Storytelling With Data book mentions planning on a \"Who, What, and How\" for your data story.  Write down a possible Who, What, and How for your data, using the ideas in the book."
   ]
  },
  {
   "cell_type": "markdown",
   "id": "562628ad",
   "metadata": {},
   "source": [
    "### ***answer***"
   ]
  },
  {
   "cell_type": "markdown",
   "id": "f81e537f",
   "metadata": {},
   "source": [
    "> ##### DATASET SELECTION\n",
    "\n",
    "- I selected the Healthcare topic #2: Predicting Kidney Disease Progression\n",
    "- The datasets mainly came from patient research data\n",
    "\n",
    "\n",
    "\n",
    "> #### FOR WHAT WHO HOW\n",
    "\n",
    "##### ABOUT\n",
    "The datasets consist of laboratory measurements from patients with the purpose of detecting kidney disease. Kidney disease is a broad umbrella term for multiple diseases, which can be anything related to the kidney, or the impact from and to the kidney. The common lab measurements for this disease include glucose level, creatine level, hemoglobin, blood pressures, etc.\n",
    "\n",
    "\n",
    "##### WHO\n",
    "While the direct audience of these datasets is usually nephrologists (doctors specialized in kidney), doctors usually may want to analyze each individual lab tests themselves and may also prefer details and understanding the science (etiology & pathology) of the disease. Instead, the target audience of these large datasets can be developers of medical device for detecting diseases based on blood test (i.e., similar to Theranos).\n",
    "\n",
    "##### WHAT\n",
    "If the audience is a medtech company specialized in kidney disease, one objective is for them to know which among these many tests are useful or predictive in detecting certain type of kidney disease and whether any of the tests would be useful to keep (e.g., not detecting anything at one time point, but can detect the chance of progression). The company may gain info on which tests to skip in order to reduce cost as well.\n",
    "\n",
    "\n",
    "##### HOW\n",
    "To show these, showing an interactive chart can be helpful to show which tests may not be impactful to their product. "
   ]
  },
  {
   "cell_type": "markdown",
   "id": "898eb327-aefd-4ac0-b95a-92b616a2181b",
   "metadata": {},
   "source": [
    "# 3. Homework - work with your own data"
   ]
  },
  {
   "cell_type": "code",
   "execution_count": 60,
   "id": "fe925521-979f-4983-8d85-8db8d1316e99",
   "metadata": {},
   "outputs": [],
   "source": [
    "# import pandas as pd\n",
    "# import numpy as np\n",
    "# from datetime import datetime, timedelta\n",
    "# import matplotlib.pyplot as pyplot\n",
    "# import seaborn as sns\n",
    "# from scipy import stats\n",
    "\n",
    "\n"
   ]
  },
  {
   "cell_type": "code",
   "execution_count": 61,
   "id": "ceac13c1",
   "metadata": {},
   "outputs": [
    {
     "data": {
      "text/plain": [
       "' \\ntodo \\n- simple info/describe\\n- duplicates: row or value\\n- descriptive stats\\n- missingness\\n- other irregularities\\n- do one example of one-hot encoding\\n\\nthen:\\n- review the data\\n- any dataset not usable, and alternative?\\n'"
      ]
     },
     "execution_count": 61,
     "metadata": {},
     "output_type": "execute_result"
    }
   ],
   "source": [
    "\"\"\" \n",
    "todo \n",
    "- simple info/describe\n",
    "- duplicates: row or value\n",
    "- descriptive stats\n",
    "- missingness\n",
    "- other irregularities\n",
    "- do one example of one-hot encoding\n",
    "\n",
    "then:\n",
    "- review the data\n",
    "- any dataset not usable, and alternative?\n",
    "\"\"\""
   ]
  },
  {
   "cell_type": "markdown",
   "id": "14836788-b235-4cd4-b94d-5f749c6141a8",
   "metadata": {},
   "source": [
    "This week, you will do the same types of exercises as last week, but you should use your chosen datasets that someone in your class found last semester. (They likely will not be the particular datasets that you found yourself.)\n",
    "\n",
    "### Here are some types of analysis you can do  Use Google, documentation, and ChatGPT to help you:\n",
    "\n",
    "- Summarize the datasets using info() and describe()\n",
    "\n",
    "- Are there any duplicate rows?\n",
    "\n",
    "- Are there any duplicate values in a given column (when this would be inappropriate?)\n",
    "\n",
    "- What are the mean, median, and mode of each column?\n",
    "\n",
    "- Are there any missing or null values?\n",
    "\n",
    "    - Do you want to fill in the missing value with a mean value?  A value of your choice?  Remove that row?\n",
    "\n",
    "- Identify any other inconsistent data (e.g. someone seems to be taking an action before they are born.)\n",
    "\n",
    "- Encode any categorical variables (e.g. with one-hot encoding.)\n",
    "\n",
    "### Conclusions:\n",
    "\n",
    "- Are the data usable?  If not, find some new data!\n",
    "\n",
    "- Do you need to modify or correct the data in some way?\n",
    "\n",
    "- Is there any class imbalance?  (Categories that have many more items than other categories)."
   ]
  },
  {
   "cell_type": "markdown",
   "id": "b1663736",
   "metadata": {},
   "source": [
    "==========================================================================\n",
    "### LOADING DATASETS\n",
    "Datasets are uploaded in csv formats mostly.\n",
    "\n",
    "\n",
    "                  ___________________\n"
   ]
  },
  {
   "cell_type": "code",
   "execution_count": 62,
   "id": "577f58c9",
   "metadata": {},
   "outputs": [],
   "source": [
    "import pandas as pd\n",
    "import numpy as np\n",
    "from datetime import datetime, timedelta\n",
    "import matplotlib.pyplot as plt\n",
    "import seaborn as sns\n",
    "from scipy import stats"
   ]
  },
  {
   "cell_type": "markdown",
   "id": "5b7790ea",
   "metadata": {},
   "source": [
    "#### DATASET1 = MIMIC dataset\n",
    "\n",
    "*some info*\n",
    "- 57 columns"
   ]
  },
  {
   "cell_type": "code",
   "execution_count": 63,
   "id": "890a49cc",
   "metadata": {},
   "outputs": [
    {
     "data": {
      "text/html": [
       "<div>\n",
       "<style scoped>\n",
       "    .dataframe tbody tr th:only-of-type {\n",
       "        vertical-align: middle;\n",
       "    }\n",
       "\n",
       "    .dataframe tbody tr th {\n",
       "        vertical-align: top;\n",
       "    }\n",
       "\n",
       "    .dataframe thead th {\n",
       "        text-align: right;\n",
       "    }\n",
       "</style>\n",
       "<table border=\"1\" class=\"dataframe\">\n",
       "  <thead>\n",
       "    <tr style=\"text-align: right;\">\n",
       "      <th></th>\n",
       "      <th>gender</th>\n",
       "      <th>age</th>\n",
       "      <th>race</th>\n",
       "      <th>unit</th>\n",
       "      <th>bmi</th>\n",
       "      <th>weight</th>\n",
       "      <th>t</th>\n",
       "      <th>p</th>\n",
       "      <th>r</th>\n",
       "      <th>bp</th>\n",
       "      <th>...</th>\n",
       "      <th>ph</th>\n",
       "      <th>cl</th>\n",
       "      <th>na</th>\n",
       "      <th>k</th>\n",
       "      <th>bicarbonate</th>\n",
       "      <th>scr</th>\n",
       "      <th>bun</th>\n",
       "      <th>po2</th>\n",
       "      <th>pco2</th>\n",
       "      <th>lactate</th>\n",
       "    </tr>\n",
       "  </thead>\n",
       "  <tbody>\n",
       "    <tr>\n",
       "      <th>715</th>\n",
       "      <td>M</td>\n",
       "      <td>47</td>\n",
       "      <td>white</td>\n",
       "      <td>CCU</td>\n",
       "      <td>22.6</td>\n",
       "      <td>80.0</td>\n",
       "      <td>38.0</td>\n",
       "      <td>77.0</td>\n",
       "      <td>23.0</td>\n",
       "      <td>77.0</td>\n",
       "      <td>...</td>\n",
       "      <td>7.53</td>\n",
       "      <td>107.0</td>\n",
       "      <td>145</td>\n",
       "      <td>3.5</td>\n",
       "      <td>25.0</td>\n",
       "      <td>1.2</td>\n",
       "      <td>18</td>\n",
       "      <td>83.0</td>\n",
       "      <td>28.0</td>\n",
       "      <td>2.0</td>\n",
       "    </tr>\n",
       "    <tr>\n",
       "      <th>1666</th>\n",
       "      <td>M</td>\n",
       "      <td>82</td>\n",
       "      <td>other</td>\n",
       "      <td>CCU</td>\n",
       "      <td>23.2</td>\n",
       "      <td>61.2</td>\n",
       "      <td>36.3</td>\n",
       "      <td>69.0</td>\n",
       "      <td>18.0</td>\n",
       "      <td>82.0</td>\n",
       "      <td>...</td>\n",
       "      <td>NaN</td>\n",
       "      <td>108.0</td>\n",
       "      <td>142</td>\n",
       "      <td>3.7</td>\n",
       "      <td>22.0</td>\n",
       "      <td>0.8</td>\n",
       "      <td>17</td>\n",
       "      <td>NaN</td>\n",
       "      <td>NaN</td>\n",
       "      <td>NaN</td>\n",
       "    </tr>\n",
       "    <tr>\n",
       "      <th>3347</th>\n",
       "      <td>M</td>\n",
       "      <td>65</td>\n",
       "      <td>other</td>\n",
       "      <td>CCU</td>\n",
       "      <td>39.5</td>\n",
       "      <td>105.0</td>\n",
       "      <td>36.7</td>\n",
       "      <td>103.0</td>\n",
       "      <td>24.0</td>\n",
       "      <td>73.0</td>\n",
       "      <td>...</td>\n",
       "      <td>7.38</td>\n",
       "      <td>98.0</td>\n",
       "      <td>131</td>\n",
       "      <td>3.8</td>\n",
       "      <td>26.0</td>\n",
       "      <td>3.9</td>\n",
       "      <td>32</td>\n",
       "      <td>155.0</td>\n",
       "      <td>39.0</td>\n",
       "      <td>1.3</td>\n",
       "    </tr>\n",
       "  </tbody>\n",
       "</table>\n",
       "<p>3 rows × 57 columns</p>\n",
       "</div>"
      ],
      "text/plain": [
       "     gender  age   race unit   bmi  weight     t      p     r    bp  ...  \\\n",
       "715       M   47  white  CCU  22.6    80.0  38.0   77.0  23.0  77.0  ...   \n",
       "1666      M   82  other  CCU  23.2    61.2  36.3   69.0  18.0  82.0  ...   \n",
       "3347      M   65  other  CCU  39.5   105.0  36.7  103.0  24.0  73.0  ...   \n",
       "\n",
       "        ph     cl   na    k  bicarbonate  scr  bun    po2  pco2  lactate  \n",
       "715   7.53  107.0  145  3.5         25.0  1.2   18   83.0  28.0      2.0  \n",
       "1666   NaN  108.0  142  3.7         22.0  0.8   17    NaN   NaN      NaN  \n",
       "3347  7.38   98.0  131  3.8         26.0  3.9   32  155.0  39.0      1.3  \n",
       "\n",
       "[3 rows x 57 columns]"
      ]
     },
     "execution_count": 63,
     "metadata": {},
     "output_type": "execute_result"
    }
   ],
   "source": [
    "#### DATASET1 = MIMIC dataset\n",
    "\n",
    "df1 = pd.read_csv('dataset - acute kidney injury in MIMIC.csv')\n",
    "df1.sample(3)\n"
   ]
  },
  {
   "cell_type": "markdown",
   "id": "7e46c40f",
   "metadata": {},
   "source": [
    "                  ___________________\n",
    "#### DATASET2 = chronic kidney\n",
    "\n",
    "*some info*\n",
    "- 26 columns"
   ]
  },
  {
   "cell_type": "code",
   "execution_count": 1,
   "id": "de6872bd",
   "metadata": {},
   "outputs": [
    {
     "ename": "NameError",
     "evalue": "name 'pd' is not defined",
     "output_type": "error",
     "traceback": [
      "\u001b[31m---------------------------------------------------------------------------\u001b[39m",
      "\u001b[31mNameError\u001b[39m                                 Traceback (most recent call last)",
      "\u001b[36mCell\u001b[39m\u001b[36m \u001b[39m\u001b[32mIn[1]\u001b[39m\u001b[32m, line 3\u001b[39m\n\u001b[32m      1\u001b[39m \u001b[38;5;66;03m#### DATASET2 = chronic kidney\u001b[39;00m\n\u001b[32m----> \u001b[39m\u001b[32m3\u001b[39m df2 = \u001b[43mpd\u001b[49m.read_csv(\u001b[33m'\u001b[39m\u001b[33mchronic_kidney_disease_prepared.csv\u001b[39m\u001b[33m'\u001b[39m)\n\u001b[32m      4\u001b[39m df2.sample(\u001b[32m3\u001b[39m)\n",
      "\u001b[31mNameError\u001b[39m: name 'pd' is not defined"
     ]
    }
   ],
   "source": [
    "#### DATASET2 = chronic kidney\n",
    "\n",
    "df2 = pd.read_csv('chronic_kidney_disease_prepared.csv')\n",
    "df2.sample(3)"
   ]
  },
  {
   "cell_type": "markdown",
   "id": "870b0229",
   "metadata": {},
   "source": [
    "                  ___________________\n",
    "#### DATASET3 = diabetic nephropathy\n",
    "\n",
    "*some info*\n",
    "- 22 columns"
   ]
  },
  {
   "cell_type": "code",
   "execution_count": 65,
   "id": "47fd93c3",
   "metadata": {},
   "outputs": [
    {
     "data": {
      "text/html": [
       "<div>\n",
       "<style scoped>\n",
       "    .dataframe tbody tr th:only-of-type {\n",
       "        vertical-align: middle;\n",
       "    }\n",
       "\n",
       "    .dataframe tbody tr th {\n",
       "        vertical-align: top;\n",
       "    }\n",
       "\n",
       "    .dataframe thead th {\n",
       "        text-align: right;\n",
       "    }\n",
       "</style>\n",
       "<table border=\"1\" class=\"dataframe\">\n",
       "  <thead>\n",
       "    <tr style=\"text-align: right;\">\n",
       "      <th></th>\n",
       "      <th>Sex</th>\n",
       "      <th>Age</th>\n",
       "      <th>Diabetes duration (y)</th>\n",
       "      <th>Diabetic retinopathy (DR)</th>\n",
       "      <th>Diabetic nephropathy (DN)</th>\n",
       "      <th>Smoking</th>\n",
       "      <th>Drinking</th>\n",
       "      <th>Height(cm)</th>\n",
       "      <th>Weight(kg)</th>\n",
       "      <th>BMI (kg/m2)</th>\n",
       "      <th>...</th>\n",
       "      <th>HbA1c (%)</th>\n",
       "      <th>FBG (mmol/L)</th>\n",
       "      <th>TG（mmoll）</th>\n",
       "      <th>C-peptide (ng/ml）</th>\n",
       "      <th>TC（mmoll）</th>\n",
       "      <th>HDLC（mmoll）</th>\n",
       "      <th>LDLC（mmoll）</th>\n",
       "      <th>Insulin</th>\n",
       "      <th>Metformin</th>\n",
       "      <th>Lipid lowering drugs</th>\n",
       "    </tr>\n",
       "  </thead>\n",
       "  <tbody>\n",
       "    <tr>\n",
       "      <th>225</th>\n",
       "      <td>Male</td>\n",
       "      <td>69</td>\n",
       "      <td>10.0</td>\n",
       "      <td>0</td>\n",
       "      <td>0</td>\n",
       "      <td>1</td>\n",
       "      <td>1</td>\n",
       "      <td>170.0</td>\n",
       "      <td>88.0</td>\n",
       "      <td>30.449827</td>\n",
       "      <td>...</td>\n",
       "      <td>11.6</td>\n",
       "      <td>9.87</td>\n",
       "      <td>1.80</td>\n",
       "      <td>3.30</td>\n",
       "      <td>4.80</td>\n",
       "      <td>1.06</td>\n",
       "      <td>3.07</td>\n",
       "      <td>1</td>\n",
       "      <td>1</td>\n",
       "      <td>0</td>\n",
       "    </tr>\n",
       "    <tr>\n",
       "      <th>136</th>\n",
       "      <td>Female</td>\n",
       "      <td>68</td>\n",
       "      <td>8.0</td>\n",
       "      <td>0</td>\n",
       "      <td>0</td>\n",
       "      <td>0</td>\n",
       "      <td>0</td>\n",
       "      <td>168.0</td>\n",
       "      <td>58.0</td>\n",
       "      <td>20.549887</td>\n",
       "      <td>...</td>\n",
       "      <td>7.0</td>\n",
       "      <td>7.71</td>\n",
       "      <td>0.70</td>\n",
       "      <td>0.74</td>\n",
       "      <td>4.90</td>\n",
       "      <td>2.18</td>\n",
       "      <td>2.46</td>\n",
       "      <td>1</td>\n",
       "      <td>0</td>\n",
       "      <td>1</td>\n",
       "    </tr>\n",
       "    <tr>\n",
       "      <th>60</th>\n",
       "      <td>Female</td>\n",
       "      <td>46</td>\n",
       "      <td>3.0</td>\n",
       "      <td>1</td>\n",
       "      <td>0</td>\n",
       "      <td>0</td>\n",
       "      <td>1</td>\n",
       "      <td>153.0</td>\n",
       "      <td>56.0</td>\n",
       "      <td>23.922423</td>\n",
       "      <td>...</td>\n",
       "      <td>9.8</td>\n",
       "      <td>13.23</td>\n",
       "      <td>0.93</td>\n",
       "      <td>1.79</td>\n",
       "      <td>1.83</td>\n",
       "      <td>0.92</td>\n",
       "      <td>0.57</td>\n",
       "      <td>1</td>\n",
       "      <td>0</td>\n",
       "      <td>0</td>\n",
       "    </tr>\n",
       "  </tbody>\n",
       "</table>\n",
       "<p>3 rows × 22 columns</p>\n",
       "</div>"
      ],
      "text/plain": [
       "        Sex  Age  Diabetes duration (y)  Diabetic retinopathy (DR)  \\\n",
       "225    Male   69                   10.0                          0   \n",
       "136  Female   68                    8.0                          0   \n",
       "60   Female   46                    3.0                          1   \n",
       "\n",
       "     Diabetic nephropathy (DN)  Smoking  Drinking  Height(cm)  Weight(kg)  \\\n",
       "225                          0        1         1       170.0        88.0   \n",
       "136                          0        0         0       168.0        58.0   \n",
       "60                           0        0         1       153.0        56.0   \n",
       "\n",
       "     BMI (kg/m2)  ...  HbA1c (%)  FBG (mmol/L)  TG（mmoll）  C-peptide (ng/ml）  \\\n",
       "225    30.449827  ...       11.6          9.87       1.80               3.30   \n",
       "136    20.549887  ...        7.0          7.71       0.70               0.74   \n",
       "60     23.922423  ...        9.8         13.23       0.93               1.79   \n",
       "\n",
       "     TC（mmoll）  HDLC（mmoll）  LDLC（mmoll）  Insulin  Metformin  \\\n",
       "225       4.80         1.06         3.07        1          1   \n",
       "136       4.90         2.18         2.46        1          0   \n",
       "60        1.83         0.92         0.57        1          0   \n",
       "\n",
       "     Lipid lowering drugs  \n",
       "225                     0  \n",
       "136                     1  \n",
       "60                      0  \n",
       "\n",
       "[3 rows x 22 columns]"
      ]
     },
     "execution_count": 65,
     "metadata": {},
     "output_type": "execute_result"
    }
   ],
   "source": [
    "#### DATASET3 \n",
    "import openpyxl\n",
    "# df3 = pd.read_csv('Diabetic_Nephropathy_v1.xlsx')\n",
    "df3 = pd.read_excel('Diabetic_Nephropathy_v1.xlsx')\n",
    "\n",
    "df3.sample(3)"
   ]
  },
  {
   "cell_type": "markdown",
   "id": "b7164da0",
   "metadata": {},
   "source": [
    "                ---             \n",
    "---\n",
    "### ANALYSES"
   ]
  },
  {
   "cell_type": "markdown",
   "id": "1012e121",
   "metadata": {},
   "source": [
    "##### ====== TEMPLATE =======\n",
    "Create a macro to do repetitive tasks"
   ]
  },
  {
   "cell_type": "code",
   "execution_count": 66,
   "id": "2f4e56c5",
   "metadata": {},
   "outputs": [],
   "source": [
    "def quickEDA(df, title):\n",
    "    print(\"=\" * 50)\n",
    "    print(f\" - - - {title.upper()} - - - -\")\n",
    "    print(\"=\" * 50)\n",
    "\n",
    "    \n",
    "    # 1. overview\n",
    "    ## shape\n",
    "    print(f\"shape: {df.shape[0]} rows x {df.shape[1]} columns\")\n",
    "    print(\"_\" * 20)\n",
    "    print(f\"\\n\")\n",
    "\n",
    "    print(f\"duplicated rows: {df.duplicated().sum()} = {df.duplicated().sum()/len(df) * 100:.1f}%\")\n",
    "    print(\"_\" * 20)\n",
    "    print(f\"\\n\")\n",
    "\n",
    "\n",
    "    ## quick look in table view \n",
    "    infoondf = pd.DataFrame(\n",
    "        {'col' : df.columns\n",
    "        , 'data_types' : df.dtypes\n",
    "        , 'Non null count' : df.count()\n",
    "        , 'null' : df.isnull().sum()\n",
    "        , 'unique values' : df.nunique()\n",
    "    })\n",
    "\n",
    "    print(infoondf.to_string(index=False))\n",
    "    print(\"_\" * 20)\n",
    "    print(f\"\\n\")\n",
    "\n",
    "\n",
    "\n",
    "    # ----------\n",
    "    # 2. review numerical\n",
    "\n",
    "    numberscol = df.select_dtypes(include=[np.number]).columns.tolist()\n",
    "    if numberscol:\n",
    "        print(f\"\\nNUMERICAL COL: {len(numberscol)} columns\")\n",
    "        print(\"   -----    \")\n",
    "\n",
    "\n",
    "        stat1 = df[numberscol].describe().round(2)\n",
    "        print(stat1)\n",
    "\n",
    "    \n",
    "   \n"
   ]
  },
  {
   "cell_type": "code",
   "execution_count": 67,
   "id": "e05298bf",
   "metadata": {},
   "outputs": [],
   "source": [
    "def quick_encode(df, columntoencode, sample=200):\n",
    "    print(\"=\" * 50)\n",
    "    print(f\" - - - One-hot encoding - - - -\")\n",
    "    print(\"=\" * 50)\n",
    "\n",
    "    dfsample = df.sample(n=sample).reset_index(drop=True)\n",
    "    encodeddf = pd.get_dummies(dfsample, columns=[columntoencode])\n",
    "\n",
    "    newcol = list(set(encodeddf.columns)-set(df.columns))\n",
    "\n",
    "    other_columns = np.random.choice(\n",
    "        [i for i in dfsample.columns if (i != columntoencode and i != newcol)]\n",
    "        , size = 3\n",
    "        , replace = False\n",
    "    )\n",
    "\n",
    "    listcoltoshow = [str(col) for col in other_columns] + [str(i) for i in newcol]\n",
    "\n",
    "    \n",
    "    # print(listcoltoshow)\n",
    "    print(f\"Resulted encoded columns: from [{columntoencode}] to {newcol}\")\n",
    "    print(encodeddf[listcoltoshow].head())\n"
   ]
  },
  {
   "cell_type": "markdown",
   "id": "9c656b87",
   "metadata": {},
   "source": [
    "#### DATASET 1"
   ]
  },
  {
   "cell_type": "markdown",
   "id": "0ffaac79",
   "metadata": {},
   "source": [
    "##### EDA"
   ]
  },
  {
   "cell_type": "code",
   "execution_count": 68,
   "id": "81558655",
   "metadata": {},
   "outputs": [
    {
     "name": "stdout",
     "output_type": "stream",
     "text": [
      "==================================================\n",
      " - - - EDA DATASET MIMIC STUDY - - - -\n",
      "==================================================\n",
      "shape: 4001 rows x 57 columns\n",
      "____________________\n",
      "\n",
      "\n",
      "duplicated rows: 0 = 0.0%\n",
      "____________________\n",
      "\n",
      "\n",
      "          col data_types  Non null count  null  unique values\n",
      "       gender     object            4001     0              2\n",
      "          age      int64            4001     0             72\n",
      "         race     object            4001     0              3\n",
      "         unit     object            4001     0              5\n",
      "          bmi    float64            3090   911            402\n",
      "       weight    float64            3809   192            938\n",
      "            t    float64            3903    98             64\n",
      "            p    float64            3998     3            104\n",
      "            r    float64            3994     7             32\n",
      "           bp    float64            3998     3             76\n",
      "vent_firstday      int64            4001     0              2\n",
      "vaso_firstday      int64            4001     0              2\n",
      "          chf      int64            4001     0              2\n",
      "          ckd      int64            4001     0              2\n",
      "        liver      int64            4001     0              2\n",
      "    pulmonary      int64            4001     0              2\n",
      " hypertension      int64            4001     0              2\n",
      "   malignancy      int64            4001     0              2\n",
      "       stroke      int64            4001     0              2\n",
      "          cad      int64            4001     0              2\n",
      "     diabetes      int64            4001     0              2\n",
      "          hiv      int64            4001     0              2\n",
      "       anemia      int64            4001     0              2\n",
      "   drug_abuse      int64            4001     0              2\n",
      "alcohol_abuse      int64            4001     0              2\n",
      "       sepsis      int64            4001     0              2\n",
      "    aki_stage      int64            4001     0              3\n",
      "         sofa      int64            4001     0             23\n",
      "       sapsii      int64            4001     0             93\n",
      "  mort_28_day      int64            4001     0              2\n",
      "  mort_90_day      int64            4001     0              2\n",
      "  mort_1_year      int64            4001     0              2\n",
      "      cox_los      int64            4001     0             91\n",
      "          sii      int64            4001     0           2865\n",
      "          plr      int64            4001     0            781\n",
      "          nlr      int64            4001     0             56\n",
      "          mlr      int64            4001     0              4\n",
      "      glucose    float64            3997     4            416\n",
      "          wbc    float64            4001     0            369\n",
      "          rbc    float64            3996     5            392\n",
      "           ne    float64            4001     0            389\n",
      "           ly    float64            4001     0            309\n",
      "           mn    float64            4001     0            125\n",
      "          rdw    float64            3996     5            133\n",
      "           hb    float64            3998     3            135\n",
      "          plt      int64            4001     0            527\n",
      "           ck    float64            2266  1735            679\n",
      "           ph    float64            3127   874             74\n",
      "           cl    float64            3998     3             60\n",
      "           na      int64            4001     0             57\n",
      "            k    float64            4001     0             66\n",
      "  bicarbonate    float64            3995     6             40\n",
      "          scr    float64            4001     0             99\n",
      "          bun      int64            4001     0            143\n",
      "          po2    float64            3051   950            487\n",
      "         pco2    float64            3051   950             92\n",
      "      lactate    float64            2691  1310            129\n",
      "____________________\n",
      "\n",
      "\n",
      "\n",
      "NUMERICAL COL: 54 columns\n",
      "   -----    \n",
      "           age      bmi   weight        t        p        r       bp  \\\n",
      "count  4001.00  3090.00  3809.00  3903.00  3998.00  3994.00  3998.00   \n",
      "mean     65.11    29.31    83.75    36.90    88.26    19.81    77.42   \n",
      "std      16.99     8.36    25.92     0.74    16.72     4.36    11.12   \n",
      "min      18.00     4.90     1.00    31.60    43.00     9.00    47.00   \n",
      "25%      54.00    24.00    66.80    36.40    76.00    17.00    70.00   \n",
      "50%      67.00    27.70    80.00    36.90    87.00    19.00    76.00   \n",
      "75%      79.00    32.90    95.20    37.40   100.00    22.00    84.00   \n",
      "max      91.00   135.60   472.00    39.90   155.00    42.00   140.00   \n",
      "\n",
      "       vent_firstday  vaso_firstday      chf  ...       ph       cl       na  \\\n",
      "count        4001.00        4001.00  4001.00  ...  3127.00  3998.00  4001.00   \n",
      "mean            0.61           0.39     0.22  ...     7.35   105.13   138.40   \n",
      "std             0.49           0.49     0.41  ...     0.11     6.63     5.42   \n",
      "min             0.00           0.00     0.00  ...     6.75    78.00   109.00   \n",
      "25%             0.00           0.00     0.00  ...     7.30   101.00   135.00   \n",
      "50%             1.00           0.00     0.00  ...     7.37   105.00   138.00   \n",
      "75%             1.00           1.00     0.00  ...     7.43   109.00   141.00   \n",
      "max             1.00           1.00     1.00  ...     7.69   140.00   177.00   \n",
      "\n",
      "             k  bicarbonate      scr      bun      po2     pco2  lactate  \n",
      "count  4001.00      3995.00  4001.00  4001.00  3051.00  3051.00  2691.00  \n",
      "mean      4.22        22.81     1.55    31.40   171.75    42.23     2.57  \n",
      "std       0.81         5.14     1.47    23.97   121.52    12.61     2.04  \n",
      "min       1.80         5.00     0.10     2.00    15.00    12.00     0.37  \n",
      "25%       3.70        20.00     0.80    15.00    81.00    34.00     1.30  \n",
      "50%       4.10        23.00     1.10    23.00   125.00    40.00     1.90  \n",
      "75%       4.60        26.00     1.70    40.00   237.00    47.00     3.00  \n",
      "max      10.00        45.00    33.10   185.00   607.00   138.00    19.70  \n",
      "\n",
      "[8 rows x 54 columns]\n"
     ]
    }
   ],
   "source": [
    "quickEDA(df1, 'EDA dataset MIMIC study')"
   ]
  },
  {
   "cell_type": "markdown",
   "id": "f32d76ed",
   "metadata": {},
   "source": [
    "##### Encoding"
   ]
  },
  {
   "cell_type": "code",
   "execution_count": 69,
   "id": "4a67abcf",
   "metadata": {},
   "outputs": [
    {
     "name": "stdout",
     "output_type": "stream",
     "text": [
      "==================================================\n",
      " - - - One-hot encoding - - - -\n",
      "==================================================\n",
      "Resulted encoded columns: from [race] to ['race_black', 'race_other', 'race_white']\n",
      "   ckd  chf    ne  race_black  race_other  race_white\n",
      "0    0    0  81.4       False       False        True\n",
      "1    0    0  76.3       False       False        True\n",
      "2    0    0  82.2       False       False        True\n",
      "3    0    0  91.4       False       False        True\n",
      "4    0    1  76.4       False       False        True\n"
     ]
    }
   ],
   "source": [
    "quick_encode(df1, 'race')"
   ]
  },
  {
   "cell_type": "markdown",
   "id": "7c6197de",
   "metadata": {},
   "source": [
    "#### DATASET 2"
   ]
  },
  {
   "cell_type": "markdown",
   "id": "80a4baaa",
   "metadata": {},
   "source": [
    "##### EDA"
   ]
  },
  {
   "cell_type": "code",
   "execution_count": 70,
   "id": "52de5c9f",
   "metadata": {},
   "outputs": [
    {
     "name": "stdout",
     "output_type": "stream",
     "text": [
      "==================================================\n",
      " - - - EDA ON CHRONIC KIDNEY - - - -\n",
      "==================================================\n",
      "shape: 400 rows x 26 columns\n",
      "____________________\n",
      "\n",
      "\n",
      "duplicated rows: 0 = 0.0%\n",
      "____________________\n",
      "\n",
      "\n",
      "                    col data_types  Non null count  null  unique values\n",
      "             Patient_id      int64             400     0            400\n",
      "                    Age    float64             391     9             76\n",
      "         Blood Pressure    float64             388    12             10\n",
      "       Specific Gravity    float64             353    47              5\n",
      "                Albumin    float64             354    46              6\n",
      "                  Sugar    float64             351    49              6\n",
      "        Red Blood Cells    float64             248   152              2\n",
      "               Pus Cell    float64             335    65              2\n",
      "        Pus Cell clumps    float64             396     4              2\n",
      "               Bacteria    float64             396     4              2\n",
      "   Blood Glucose Random    float64             356    44            146\n",
      "             Blood Urea    float64             381    19            118\n",
      "       Serum Creatinine    float64             383    17             84\n",
      "                 Sodium    float64             313    87             34\n",
      "              Potassium    float64             312    88             40\n",
      "             Hemoglobin    float64             348    52            115\n",
      "     Packed Cell Volume    float64             329    71             42\n",
      " White Blood Cell Count    float64             294   106             89\n",
      "   Red Blood Cell Count    float64             269   131             45\n",
      "           Hypertension    float64             398     2              2\n",
      "      Diabetes Mellitus    float64             398     2              2\n",
      "Coronary Artery Disease    float64             398     2              2\n",
      "               Appetite    float64             399     1              2\n",
      "            Pedal Edema    float64             399     1              2\n",
      "                 Anemia    float64             399     1              2\n",
      "                  Class      int64             400     0              2\n",
      "____________________\n",
      "\n",
      "\n",
      "\n",
      "NUMERICAL COL: 26 columns\n",
      "   -----    \n",
      "       Patient_id     Age  Blood Pressure  Specific Gravity  Albumin   Sugar  \\\n",
      "count      400.00  391.00          388.00            353.00   354.00  351.00   \n",
      "mean       200.50   51.48           76.47              1.02     1.02    0.45   \n",
      "std        115.61   17.17           13.68              0.01     1.35    1.10   \n",
      "min          1.00    2.00           50.00              1.00     0.00    0.00   \n",
      "25%        100.75   42.00           70.00              1.01     0.00    0.00   \n",
      "50%        200.50   55.00           80.00              1.02     0.00    0.00   \n",
      "75%        300.25   64.50           80.00              1.02     2.00    0.00   \n",
      "max        400.00   90.00          180.00              1.02     5.00    5.00   \n",
      "\n",
      "       Red Blood Cells  Pus Cell  Pus Cell clumps  Bacteria  ...  \\\n",
      "count           248.00    335.00           396.00    396.00  ...   \n",
      "mean              0.19      0.23             0.11      0.06  ...   \n",
      "std               0.39      0.42             0.31      0.23  ...   \n",
      "min               0.00      0.00             0.00      0.00  ...   \n",
      "25%               0.00      0.00             0.00      0.00  ...   \n",
      "50%               0.00      0.00             0.00      0.00  ...   \n",
      "75%               0.00      0.00             0.00      0.00  ...   \n",
      "max               1.00      1.00             1.00      1.00  ...   \n",
      "\n",
      "       Packed Cell Volume  White Blood Cell Count  Red Blood Cell Count  \\\n",
      "count              329.00                  294.00                269.00   \n",
      "mean                38.88                 8406.12                  4.71   \n",
      "std                  8.99                 2944.47                  1.03   \n",
      "min                  9.00                 2200.00                  2.10   \n",
      "25%                 32.00                 6500.00                  3.90   \n",
      "50%                 40.00                 8000.00                  4.80   \n",
      "75%                 45.00                 9800.00                  5.40   \n",
      "max                 54.00                26400.00                  8.00   \n",
      "\n",
      "       Hypertension  Diabetes Mellitus  Coronary Artery Disease  Appetite  \\\n",
      "count        398.00             398.00                   398.00    399.00   \n",
      "mean           0.37               0.34                     0.09      0.79   \n",
      "std            0.48               0.48                     0.28      0.40   \n",
      "min            0.00               0.00                     0.00      0.00   \n",
      "25%            0.00               0.00                     0.00      1.00   \n",
      "50%            0.00               0.00                     0.00      1.00   \n",
      "75%            1.00               1.00                     0.00      1.00   \n",
      "max            1.00               1.00                     1.00      1.00   \n",
      "\n",
      "       Pedal Edema  Anemia   Class  \n",
      "count       399.00  399.00  400.00  \n",
      "mean          0.19    0.15    0.62  \n",
      "std           0.39    0.36    0.48  \n",
      "min           0.00    0.00    0.00  \n",
      "25%           0.00    0.00    0.00  \n",
      "50%           0.00    0.00    1.00  \n",
      "75%           0.00    0.00    1.00  \n",
      "max           1.00    1.00    1.00  \n",
      "\n",
      "[8 rows x 26 columns]\n"
     ]
    }
   ],
   "source": [
    "quickEDA(df2, 'EDA on chronic kidney')"
   ]
  },
  {
   "cell_type": "code",
   "execution_count": 71,
   "id": "221fe12d",
   "metadata": {},
   "outputs": [
    {
     "name": "stdout",
     "output_type": "stream",
     "text": [
      "==================================================\n",
      " - - - One-hot encoding - - - -\n",
      "==================================================\n",
      "Resulted encoded columns: from [Anemia] to ['Anemia_1.0', 'Anemia_0.0']\n",
      "   Blood Glucose Random  Sodium  Class  Anemia_1.0  Anemia_0.0\n",
      "0                 182.0   163.0      1       False        True\n",
      "1                  94.0   135.0      0       False        True\n",
      "2                 264.0   130.0      1       False        True\n",
      "3                 139.0   135.0      0       False        True\n",
      "4                 107.0   141.0      0       False        True\n"
     ]
    }
   ],
   "source": [
    "quick_encode(df2, 'Anemia')"
   ]
  },
  {
   "cell_type": "markdown",
   "id": "f9bd4c38",
   "metadata": {},
   "source": [
    "#### DATASET 3\n",
    "\n",
    "#### EDA"
   ]
  },
  {
   "cell_type": "code",
   "execution_count": 72,
   "id": "f4793140",
   "metadata": {},
   "outputs": [
    {
     "name": "stdout",
     "output_type": "stream",
     "text": [
      "==================================================\n",
      " - - - EDA ON DIABETIC NEPHROPATHY - - - -\n",
      "==================================================\n",
      "shape: 767 rows x 22 columns\n",
      "____________________\n",
      "\n",
      "\n",
      "duplicated rows: 5 = 0.7%\n",
      "____________________\n",
      "\n",
      "\n",
      "                      col data_types  Non null count  null  unique values\n",
      "                      Sex     object             767     0              2\n",
      "                      Age      int64             767     0             59\n",
      "    Diabetes duration (y)    float64             766     1             34\n",
      "Diabetic retinopathy (DR)      int64             767     0              2\n",
      "Diabetic nephropathy (DN)      int64             767     0              2\n",
      "                  Smoking      int64             767     0              2\n",
      "                 Drinking      int64             767     0              2\n",
      "               Height(cm)    float64             766     1             43\n",
      "               Weight(kg)    float64             767     0            104\n",
      "              BMI (kg/m2)    float64             766     1            515\n",
      "              SBP (mmHg)       int64             767     0             95\n",
      "               DBP (mmHg)      int64             767     0             67\n",
      "                HbA1c (%)    float64             764     3             93\n",
      "             FBG (mmol/L)    float64             766     1            513\n",
      "                TG（mmoll）    float64             762     5            297\n",
      "        C-peptide (ng/ml）    float64             766     1            241\n",
      "                TC（mmoll）    float64             762     5            324\n",
      "              HDLC（mmoll）    float64             760     7            137\n",
      "              LDLC（mmoll）    float64             760     7            313\n",
      "                  Insulin      int64             767     0              2\n",
      "                Metformin      int64             767     0              2\n",
      "     Lipid lowering drugs      int64             767     0              2\n",
      "____________________\n",
      "\n",
      "\n",
      "\n",
      "NUMERICAL COL: 21 columns\n",
      "   -----    \n",
      "          Age  Diabetes duration (y)  Diabetic retinopathy (DR)  \\\n",
      "count  767.00                 766.00                     767.00   \n",
      "mean    56.08                   9.36                       0.38   \n",
      "std     10.95                   7.01                       0.49   \n",
      "min     24.00                   0.10                       0.00   \n",
      "25%     49.00                   3.00                       0.00   \n",
      "50%     56.00                   9.00                       0.00   \n",
      "75%     64.00                  14.00                       1.00   \n",
      "max     88.00                  32.00                       1.00   \n",
      "\n",
      "       Diabetic nephropathy (DN)  Smoking  Drinking  Height(cm)  Weight(kg)  \\\n",
      "count                     767.00   767.00    767.00      766.00      767.00   \n",
      "mean                        0.26     0.32      0.29      166.71       69.86   \n",
      "std                         0.44     0.47      0.46        8.49       11.86   \n",
      "min                         0.00     0.00      0.00      108.00       42.60   \n",
      "25%                         0.00     0.00      0.00      160.00       61.00   \n",
      "50%                         0.00     0.00      0.00      168.00       69.00   \n",
      "75%                         1.00     1.00      1.00      173.00       77.00   \n",
      "max                         1.00     1.00      1.00      190.00      122.40   \n",
      "\n",
      "       BMI (kg/m2)  SBP (mmHg)   ...  HbA1c (%)  FBG (mmol/L)  TG（mmoll）  \\\n",
      "count       766.00       767.00  ...     764.00        766.00     762.00   \n",
      "mean         25.08       134.86  ...       8.75          8.47       1.93   \n",
      "std           3.56        19.15  ...       1.94          3.01       1.39   \n",
      "min          16.38        92.00  ...       4.70          1.02       0.41   \n",
      "25%          22.86       122.00  ...       7.30          6.27       1.10   \n",
      "50%          24.80       133.00  ...       8.50          7.84       1.58   \n",
      "75%          26.98       146.00  ...       9.80         10.15       2.28   \n",
      "max          63.44       218.00  ...      17.10         22.09      13.00   \n",
      "\n",
      "       C-peptide (ng/ml）  TC（mmoll）  HDLC（mmoll）  LDLC（mmoll）  Insulin  \\\n",
      "count             766.00     762.00       760.00       760.00   767.00   \n",
      "mean                1.15       4.43         1.08         2.89     0.78   \n",
      "std                 0.78       1.03         0.31         7.03     0.42   \n",
      "min                 0.01       0.71         0.38         0.37     0.00   \n",
      "25%                 0.64       3.71         0.88         2.01     1.00   \n",
      "50%                 1.00       4.35         1.02         2.56     1.00   \n",
      "75%                 1.40       5.00         1.23         3.20     1.00   \n",
      "max                 8.94       8.74         2.64       195.00     1.00   \n",
      "\n",
      "       Metformin  Lipid lowering drugs  \n",
      "count     767.00                767.00  \n",
      "mean        0.64                  0.64  \n",
      "std         0.48                  0.48  \n",
      "min         0.00                  0.00  \n",
      "25%         0.00                  0.00  \n",
      "50%         1.00                  1.00  \n",
      "75%         1.00                  1.00  \n",
      "max         1.00                  1.00  \n",
      "\n",
      "[8 rows x 21 columns]\n"
     ]
    }
   ],
   "source": [
    "quickEDA(df3, 'EDA on diabetic nephropathy')"
   ]
  },
  {
   "cell_type": "code",
   "execution_count": 73,
   "id": "8679ffb0",
   "metadata": {},
   "outputs": [
    {
     "name": "stdout",
     "output_type": "stream",
     "text": [
      "==================================================\n",
      " - - - One-hot encoding - - - -\n",
      "==================================================\n",
      "Resulted encoded columns: from [Smoking] to ['Smoking_1', 'Smoking_0']\n",
      "   FBG (mmol/L)  Height(cm)  HDLC（mmoll）  Smoking_1  Smoking_0\n",
      "0          5.98       175.0         1.45      False       True\n",
      "1         10.34       156.0         0.70      False       True\n",
      "2          8.13       169.0         1.34       True      False\n",
      "3         11.18       173.0         1.37       True      False\n",
      "4          6.60       160.0         1.63      False       True\n"
     ]
    }
   ],
   "source": [
    "quick_encode(df3, 'Smoking')"
   ]
  },
  {
   "cell_type": "markdown",
   "id": "8d2b7269",
   "metadata": {},
   "source": [
    ">           ____            \n",
    "\n",
    "### DISCUSSION\n",
    "\n",
    "From reviewing the 3 datasets in this set, here are some conclusions:\n",
    "\n",
    "***dataset 1***\n",
    "- Dataset 1 has large numbers of columns and rows\n",
    "    - Showing all of them may not be useful or fit the notebook view\n",
    "    - But the large number of features can be useful for analyses using statistical methods or others, and after that it may be easier to view them like using graph\n",
    "\n",
    "- This data does not show any duplicated rows and some of the missing values happened on some random columns such as BMI, Blood Pressure; which may come from typical incomplete real-world data, as this data came from hospital medical records. \n",
    "\n",
    "***dataset 2***\n",
    "- The dataset has no duplicated rows and each row represents a unique patient based on patient_id (that is unique for each row). \n",
    "    - The dataset may be a cleaned version\n",
    "\n",
    "***dataset 3***\n",
    "- The dataset has some duplicated rows, but other than that, there does not seem to have any major red flags based on the descriptive statistics.\n",
    "\n",
    "\n",
    "#### overall\n",
    "Overall, these three datasets seem to be usable and can provide multiple analyses for data science projects. Each dataset may have different target variable but also have some common target variables, such as anemia."
   ]
  },
  {
   "cell_type": "markdown",
   "id": "abab9e6d-18cc-4863-b980-3e52f581763a",
   "metadata": {},
   "source": [
    "# 4. Storytelling With Data graph"
   ]
  },
  {
   "cell_type": "markdown",
   "id": "1911148d-9df6-4b33-a875-8c96408ec834",
   "metadata": {},
   "source": [
    "Just like last week: choose any graph in the Introduction of Storytelling With Data. Use matplotlib to reproduce it in a rough way. I don't expect you to spend an enormous amount of time on this; I understand that you likely will not have time to re-create every feature of the graph. However, if you're excited about learning to use matplotlib, this is a good way to do that. You don't have to duplicate the exact values on the graph; just the same rough shape will be enough.  If you don't feel comfortable using matplotlib yet, do the best you can and write down what you tried or what Google searches you did to find the answers."
   ]
  },
  {
   "cell_type": "code",
   "execution_count": 74,
   "id": "8b2888f9-3700-45ab-9829-6a5372106f9f",
   "metadata": {},
   "outputs": [
    {
     "data": {
      "text/html": [
       "<div>\n",
       "<style scoped>\n",
       "    .dataframe tbody tr th:only-of-type {\n",
       "        vertical-align: middle;\n",
       "    }\n",
       "\n",
       "    .dataframe tbody tr th {\n",
       "        vertical-align: top;\n",
       "    }\n",
       "\n",
       "    .dataframe thead th {\n",
       "        text-align: right;\n",
       "    }\n",
       "</style>\n",
       "<table border=\"1\" class=\"dataframe\">\n",
       "  <thead>\n",
       "    <tr style=\"text-align: right;\">\n",
       "      <th></th>\n",
       "      <th>sentiment</th>\n",
       "      <th>time</th>\n",
       "      <th>value</th>\n",
       "    </tr>\n",
       "  </thead>\n",
       "  <tbody>\n",
       "    <tr>\n",
       "      <th>0</th>\n",
       "      <td>Bored</td>\n",
       "      <td>pre</td>\n",
       "      <td>11</td>\n",
       "    </tr>\n",
       "    <tr>\n",
       "      <th>1</th>\n",
       "      <td>Not Great</td>\n",
       "      <td>pre</td>\n",
       "      <td>5</td>\n",
       "    </tr>\n",
       "    <tr>\n",
       "      <th>2</th>\n",
       "      <td>OK</td>\n",
       "      <td>pre</td>\n",
       "      <td>40</td>\n",
       "    </tr>\n",
       "    <tr>\n",
       "      <th>3</th>\n",
       "      <td>Kind of interested</td>\n",
       "      <td>pre</td>\n",
       "      <td>25</td>\n",
       "    </tr>\n",
       "    <tr>\n",
       "      <th>4</th>\n",
       "      <td>Excited</td>\n",
       "      <td>pre</td>\n",
       "      <td>19</td>\n",
       "    </tr>\n",
       "    <tr>\n",
       "      <th>5</th>\n",
       "      <td>Bored</td>\n",
       "      <td>post</td>\n",
       "      <td>12</td>\n",
       "    </tr>\n",
       "    <tr>\n",
       "      <th>6</th>\n",
       "      <td>Not Great</td>\n",
       "      <td>post</td>\n",
       "      <td>6</td>\n",
       "    </tr>\n",
       "    <tr>\n",
       "      <th>7</th>\n",
       "      <td>OK</td>\n",
       "      <td>post</td>\n",
       "      <td>14</td>\n",
       "    </tr>\n",
       "    <tr>\n",
       "      <th>8</th>\n",
       "      <td>Kind of interested</td>\n",
       "      <td>post</td>\n",
       "      <td>30</td>\n",
       "    </tr>\n",
       "    <tr>\n",
       "      <th>9</th>\n",
       "      <td>Excited</td>\n",
       "      <td>post</td>\n",
       "      <td>38</td>\n",
       "    </tr>\n",
       "  </tbody>\n",
       "</table>\n",
       "</div>"
      ],
      "text/plain": [
       "            sentiment  time  value\n",
       "0               Bored   pre     11\n",
       "1           Not Great   pre      5\n",
       "2                  OK   pre     40\n",
       "3  Kind of interested   pre     25\n",
       "4             Excited   pre     19\n",
       "5               Bored  post     12\n",
       "6           Not Great  post      6\n",
       "7                  OK  post     14\n",
       "8  Kind of interested  post     30\n",
       "9             Excited  post     38"
      ]
     },
     "execution_count": 74,
     "metadata": {},
     "output_type": "execute_result"
    }
   ],
   "source": [
    "df_copyingBook= pd.DataFrame(\n",
    "    {'pre' : [11,5,40,25,19],\n",
    "    'post' : [12,6,14,30,38],\n",
    "    'sentiment': ['Bored','Not Great','OK','Kind of interested','Excited']\n",
    "    })\n",
    "\n",
    "\n",
    "df_copyingBook = df_copyingBook.melt(id_vars=['sentiment'], var_name='time')\n",
    "\n",
    "\n",
    "\n",
    "df_copyingBook"
   ]
  },
  {
   "cell_type": "code",
   "execution_count": null,
   "id": "1f5f6a81",
   "metadata": {},
   "outputs": [
    {
     "data": {
      "image/png": "[encoded data removed]",
      "text/plain": [
       "<Figure size 640x480 with 1 Axes>"
      ]
     },
     "metadata": {},
     "output_type": "display_data"
    }
   ],
   "source": [
    "# df_copyingBook.plot(kind='bar')\n",
    "\n",
    "ax = sns.barplot(\n",
    "    df_copyingBook\n",
    "    , x = 'sentiment'\n",
    "    , y = 'value'\n",
    "    , hue = 'time'\n",
    "    , palette = {\n",
    "        'pre' : ''\n",
    ")\n",
    "\n",
    "for c in ax.containers:\n",
    "    ax.bar_label(c)\n",
    "\n",
    "plt.title('How do you feel about science?')\n",
    "\n",
    "plt.show()\n",
    "\n"
   ]
  },
  {
   "cell_type": "code",
   "execution_count": null,
   "id": "8850a256",
   "metadata": {},
   "outputs": [
    {
     "data": {
      "text/plain": [
       "Index(['sentiment', 'time', 'value'], dtype='object')"
      ]
     },
     "execution_count": 79,
     "metadata": {},
     "output_type": "execute_result"
    }
   ],
   "source": [
    "# df_copyingBook.columns"
   ]
  },
  {
   "cell_type": "code",
   "execution_count": null,
   "id": "75c7fdf9",
   "metadata": {},
   "outputs": [
    {
     "data": {
      "text/plain": [
       "0    yellow\n",
       "1    yellow\n",
       "2    yellow\n",
       "3    yellow\n",
       "4    yellow\n",
       "5     black\n",
       "6     black\n",
       "7     black\n",
       "8      gray\n",
       "9      gray\n",
       "dtype: object"
      ]
     },
     "execution_count": 82,
     "metadata": {},
     "output_type": "execute_result"
    }
   ],
   "source": [
    "# df_copyingBook.apply(\n",
    "#     lambda row: 'gray' if row['time'] == 'post' and row['sentiment'] in ['Kind of interested', 'Excited'] \n",
    "#     else ('black' if row['time'] == 'post' else 'yellow'), axis=1)\n",
    "\n",
    "\n",
    "# df_copyingBook.apply(\n",
    "#     lambda row: 'gray' if row['time'] == 'post' and row['setiment'] in ['Kind of interested', 'Excited']\n",
    "#     else ('blue' if row['time'] == 'post' else 'black'), axis=1\n",
    "# )"
   ]
  },
  {
   "cell_type": "code",
   "execution_count": null,
   "id": "33d4791c",
   "metadata": {},
   "outputs": [
    {
     "data": {
      "text/plain": [
       "array(['Bored', 'Not Great', 'OK', 'Kind of interested', 'Excited'],\n",
       "      dtype=object)"
      ]
     },
     "execution_count": 97,
     "metadata": {},
     "output_type": "execute_result"
    }
   ],
   "source": [
    "# dict(zip(df_copyingBook['time'].unique(), df_copyingBook['color']))\n"
   ]
  },
  {
   "cell_type": "code",
   "execution_count": null,
   "id": "698cb226",
   "metadata": {},
   "outputs": [],
   "source": [
    "# df_copyingBook['color'] = df_copyingBook.apply(\n",
    "#     lambda row: 'gray' if row['time'] == 'post' and row['sentiment'] in ['Kind of interested', 'Excited'] \n",
    "#     else ('black' if row['time'] == 'post' else 'yellow'), axis=1)\n"
   ]
  },
  {
   "cell_type": "code",
   "execution_count": 105,
   "id": "8ef5a2ca",
   "metadata": {},
   "outputs": [
    {
     "data": {
      "image/png": "[encoded data removed]",
      "text/plain": [
       "<Figure size 640x480 with 1 Axes>"
      ]
     },
     "metadata": {},
     "output_type": "display_data"
    }
   ],
   "source": [
    "\n",
    "ax = sns.barplot(\n",
    "    df_copyingBook\n",
    "    , x = 'sentiment'\n",
    "    , y = 'value'\n",
    "    , hue = 'time'\n",
    "    # , palette = dict(zip(df_copyingBook['time'].unique(), df_copyingBook['color']))\n",
    "    # , palette = df_copyingBook['color']\n",
    ")\n",
    "\n",
    "\n",
    "sns.barplot(    \n",
    "    df_copyingBook.query(\"sentiment in ['OK', 'Excited']\")\n",
    "    # df_copyingBook.query(\"time == 'post' and sentiment in ['OK']\")\n",
    "    , x = 'sentiment'\n",
    "    , y = 'value'\n",
    "    , hue = 'time'\n",
    "    # , palette = dict(zip(df_copyingBook['time'].unique(), sns.color_palette('tab20', n_colors=len(df_copyingBook['time'].unique()))))\n",
    "    , palette = {'pre' : 'yellow', 'post':'gray'}\n",
    ")\n",
    "\n",
    "for c in ax.containers:\n",
    "    ax.bar_label(c)\n",
    "\n",
    "plt.title('How do you feel about science?')\n",
    "\n",
    "plt.show()\n"
   ]
  }
 ],
 "metadata": {
  "kernelspec": {
   "display_name": "Python 3",
   "language": "python",
   "name": "python3"
  },
  "language_info": {
   "codemirror_mode": {
    "name": "ipython",
    "version": 3
   },
   "file_extension": ".py",
   "mimetype": "text/x-python",
   "name": "python",
   "nbconvert_exporter": "python",
   "pygments_lexer": "ipython3",
   "version": "3.12.1"
  }
 },
 "nbformat": 4,
 "nbformat_minor": 5
}
